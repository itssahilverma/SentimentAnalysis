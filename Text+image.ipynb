{
 "cells": [
  {
   "cell_type": "code",
   "execution_count": 80,
   "metadata": {},
   "outputs": [],
   "source": [
    "import csv\n",
    "from watson_developer_cloud import ToneAnalyzerV3\n",
    "import matplotlib.pyplot as plt\n",
    "import numpy as np\n",
    "import pandas as pd\n",
    "import requests\n",
    "import json"
   ]
  },
  {
   "cell_type": "markdown",
   "metadata": {},
   "source": [
    "<h1> MuleSoft API call </h1>"
   ]
  },
  {
   "cell_type": "code",
   "execution_count": 115,
   "metadata": {},
   "outputs": [
    {
     "name": "stdout",
     "output_type": "stream",
     "text": [
      "[\n",
      "  {\n",
      "    \"ticketName\": \"tic_tac_toe\",\n",
      "    \"ticketDesc\": \"no music right now\",\n",
      "    \"status\": \"In Progress\",\n",
      "    \"ticketNumber\": \"a017F00000XNqJQQA1\"\n",
      "  }\n",
      "]\n"
     ]
    }
   ],
   "source": [
    "\n",
    "url = \"http://cts-digital-ipm.cloudhub.io/api/v1/salesforce/ticket/\"\n",
    "\n",
    "headers = {\n",
    "    'client_id': \"bfb6df74a3f4486db9dbd51bf5764f90\",\n",
    "    'client_secret': \"aeAbCaD530504f07B2F8d50c7EA9EAC9\",\n",
    "    'cache-control': \"no-cache\",\n",
    "    'postman-token': \"334d9a99-c2fc-4324-61d3-4a2c8a1e1dd4\"\n",
    "    }\n",
    "\n",
    "response = requests.request(\"GET\", url, headers=headers)\n",
    "\n",
    "texted =json.loads(response.text)\n",
    "#print(response.text)\n",
    "url = \"http://cts-digital-ipm.cloudhub.io/api/v1/salesforce/ticket/\"+texted[0].get('ticketNumber')\n",
    "\n",
    "headers = {\n",
    "    'client_id': \"bfb6df74a3f4486db9dbd51bf5764f90\",\n",
    "    'client_secret': \"aeAbCaD530504f07B2F8d50c7EA9EAC9\",\n",
    "    'cache-control': \"no-cache\",\n",
    "    'postman-token': \"334d9a99-c2fc-4324-61d3-4a2c8a1e1dd4\"\n",
    "    }\n",
    "\n",
    "response = requests.request(\"GET\", url, headers=headers)\n",
    "\n",
    "texted =json.loads(response.text)\n",
    "print(response.text)"
   ]
  },
  {
   "cell_type": "code",
   "execution_count": 82,
   "metadata": {},
   "outputs": [
    {
     "data": {
      "text/plain": [
       "'New prospect has entered at Thu Apr 26 2018 12:08:32 GMT+0530 (India Standard Time)'"
      ]
     },
     "execution_count": 82,
     "metadata": {},
     "output_type": "execute_result"
    }
   ],
   "source": [
    "# extreacting the text from the api \n",
    "texted=texted[0].get('ticketDesc')\n",
    "texted"
   ]
  },
  {
   "cell_type": "code",
   "execution_count": 111,
   "metadata": {},
   "outputs": [],
   "source": [
    "texted = \"Shut up! I don't want to talk about it !\""
   ]
  },
  {
   "cell_type": "markdown",
   "metadata": {},
   "source": [
    "<h1> IBM Watson, Tone Analyzer API call </h1>"
   ]
  },
  {
   "cell_type": "code",
   "execution_count": 112,
   "metadata": {},
   "outputs": [],
   "source": [
    "tone_analyzer = ToneAnalyzerV3(\n",
    "    username='',  # Enter the username and password provided by bluemix\n",
    "    password='',\n",
    "    version='2016-05-19 ')\n",
    "content_type = 'application/json'\n",
    "result = tone_analyzer.tone({\"text\": texted},content_type)  # Getting output as a file of dictionary\n",
    "xyz = []\n",
    "\n",
    "for x in result[\"document_tone\"][\"tone_categories\"][0].get(\"tones\"):  # Selecting specific Emotion is result\n",
    "    xyz.append(x)\n",
    "\n",
    "\n",
    "\n"
   ]
  },
  {
   "cell_type": "markdown",
   "metadata": {},
   "source": [
    "<h3> Raw Result</h3>"
   ]
  },
  {
   "cell_type": "code",
   "execution_count": 113,
   "metadata": {},
   "outputs": [
    {
     "data": {
      "text/plain": [
       "{'document_tone': {'tone_categories': [{'category_id': 'emotion_tone',\n",
       "    'category_name': 'Emotion Tone',\n",
       "    'tones': [{'score': 0.691402, 'tone_id': 'anger', 'tone_name': 'Anger'},\n",
       "     {'score': 0.075383, 'tone_id': 'disgust', 'tone_name': 'Disgust'},\n",
       "     {'score': 0.140951, 'tone_id': 'fear', 'tone_name': 'Fear'},\n",
       "     {'score': 0.039117, 'tone_id': 'joy', 'tone_name': 'Joy'},\n",
       "     {'score': 0.198978, 'tone_id': 'sadness', 'tone_name': 'Sadness'}]},\n",
       "   {'category_id': 'language_tone',\n",
       "    'category_name': 'Language Tone',\n",
       "    'tones': [{'score': 0.0,\n",
       "      'tone_id': 'analytical',\n",
       "      'tone_name': 'Analytical'},\n",
       "     {'score': 0.0, 'tone_id': 'confident', 'tone_name': 'Confident'},\n",
       "     {'score': 0.920133, 'tone_id': 'tentative', 'tone_name': 'Tentative'}]},\n",
       "   {'category_id': 'social_tone',\n",
       "    'category_name': 'Social Tone',\n",
       "    'tones': [{'score': 0.039646,\n",
       "      'tone_id': 'openness_big5',\n",
       "      'tone_name': 'Openness'},\n",
       "     {'score': 0.122518,\n",
       "      'tone_id': 'conscientiousness_big5',\n",
       "      'tone_name': 'Conscientiousness'},\n",
       "     {'score': 0.140889,\n",
       "      'tone_id': 'extraversion_big5',\n",
       "      'tone_name': 'Extraversion'},\n",
       "     {'score': 0.504796,\n",
       "      'tone_id': 'agreeableness_big5',\n",
       "      'tone_name': 'Agreeableness'},\n",
       "     {'score': 0.005081,\n",
       "      'tone_id': 'emotional_range_big5',\n",
       "      'tone_name': 'Emotional Range'}]}]},\n",
       " 'sentences_tone': [{'input_from': 0,\n",
       "   'input_to': 8,\n",
       "   'sentence_id': 0,\n",
       "   'text': 'Shut up!',\n",
       "   'tone_categories': [{'category_id': 'emotion_tone',\n",
       "     'category_name': 'Emotion Tone',\n",
       "     'tones': [{'score': 0.0, 'tone_id': 'anger', 'tone_name': 'Anger'},\n",
       "      {'score': 0.0, 'tone_id': 'disgust', 'tone_name': 'Disgust'},\n",
       "      {'score': 0.0, 'tone_id': 'fear', 'tone_name': 'Fear'},\n",
       "      {'score': 0.0, 'tone_id': 'joy', 'tone_name': 'Joy'},\n",
       "      {'score': 0.0, 'tone_id': 'sadness', 'tone_name': 'Sadness'}]},\n",
       "    {'category_id': 'language_tone',\n",
       "     'category_name': 'Language Tone',\n",
       "     'tones': [{'score': 0.0,\n",
       "       'tone_id': 'analytical',\n",
       "       'tone_name': 'Analytical'},\n",
       "      {'score': 0.0, 'tone_id': 'confident', 'tone_name': 'Confident'},\n",
       "      {'score': 0.0, 'tone_id': 'tentative', 'tone_name': 'Tentative'}]},\n",
       "    {'category_id': 'social_tone',\n",
       "     'category_name': 'Social Tone',\n",
       "     'tones': [{'score': 0.216281,\n",
       "       'tone_id': 'openness_big5',\n",
       "       'tone_name': 'Openness'},\n",
       "      {'score': 0.274686,\n",
       "       'tone_id': 'conscientiousness_big5',\n",
       "       'tone_name': 'Conscientiousness'},\n",
       "      {'score': 0.545987,\n",
       "       'tone_id': 'extraversion_big5',\n",
       "       'tone_name': 'Extraversion'},\n",
       "      {'score': 0.596846,\n",
       "       'tone_id': 'agreeableness_big5',\n",
       "       'tone_name': 'Agreeableness'},\n",
       "      {'score': 0.280882,\n",
       "       'tone_id': 'emotional_range_big5',\n",
       "       'tone_name': 'Emotional Range'}]}]},\n",
       "  {'input_from': 9,\n",
       "   'input_to': 40,\n",
       "   'sentence_id': 1,\n",
       "   'text': \"I don't want to talk about it !\",\n",
       "   'tone_categories': [{'category_id': 'emotion_tone',\n",
       "     'category_name': 'Emotion Tone',\n",
       "     'tones': [{'score': 0.151529, 'tone_id': 'anger', 'tone_name': 'Anger'},\n",
       "      {'score': 0.089776, 'tone_id': 'disgust', 'tone_name': 'Disgust'},\n",
       "      {'score': 0.185721, 'tone_id': 'fear', 'tone_name': 'Fear'},\n",
       "      {'score': 0.141167, 'tone_id': 'joy', 'tone_name': 'Joy'},\n",
       "      {'score': 0.211939, 'tone_id': 'sadness', 'tone_name': 'Sadness'}]},\n",
       "    {'category_id': 'language_tone',\n",
       "     'category_name': 'Language Tone',\n",
       "     'tones': [{'score': 0.0,\n",
       "       'tone_id': 'analytical',\n",
       "       'tone_name': 'Analytical'},\n",
       "      {'score': 0.0, 'tone_id': 'confident', 'tone_name': 'Confident'},\n",
       "      {'score': 0.681699, 'tone_id': 'tentative', 'tone_name': 'Tentative'}]},\n",
       "    {'category_id': 'social_tone',\n",
       "     'category_name': 'Social Tone',\n",
       "     'tones': [{'score': 0.121196,\n",
       "       'tone_id': 'openness_big5',\n",
       "       'tone_name': 'Openness'},\n",
       "      {'score': 0.263749,\n",
       "       'tone_id': 'conscientiousness_big5',\n",
       "       'tone_name': 'Conscientiousness'},\n",
       "      {'score': 0.165467,\n",
       "       'tone_id': 'extraversion_big5',\n",
       "       'tone_name': 'Extraversion'},\n",
       "      {'score': 0.615569,\n",
       "       'tone_id': 'agreeableness_big5',\n",
       "       'tone_name': 'Agreeableness'},\n",
       "      {'score': 0.013076,\n",
       "       'tone_id': 'emotional_range_big5',\n",
       "       'tone_name': 'Emotional Range'}]}]}]}"
      ]
     },
     "execution_count": 113,
     "metadata": {},
     "output_type": "execute_result"
    }
   ],
   "source": [
    "result"
   ]
  },
  {
   "cell_type": "code",
   "execution_count": 86,
   "metadata": {},
   "outputs": [],
   "source": [
    "yo=result['document_tone']['tone_categories'][0].get('tones')"
   ]
  },
  {
   "cell_type": "code",
   "execution_count": 87,
   "metadata": {},
   "outputs": [
    {
     "data": {
      "text/plain": [
       "0.06818181818181818"
      ]
     },
     "execution_count": 87,
     "metadata": {},
     "output_type": "execute_result"
    }
   ],
   "source": [
    "from textblob import TextBlob\n",
    "\n",
    "blob = TextBlob(texted)\n",
    "blob.polarity"
   ]
  },
  {
   "cell_type": "markdown",
   "metadata": {},
   "source": [
    "<h3> Creating and handling the Database</h3>"
   ]
  },
  {
   "cell_type": "code",
   "execution_count": 88,
   "metadata": {},
   "outputs": [],
   "source": [
    "# don't} run it again\n",
    "df = pd.DataFrame(columns =['score','tone_id','tone_name','polarity'])"
   ]
  },
  {
   "cell_type": "code",
   "execution_count": 89,
   "metadata": {},
   "outputs": [],
   "source": [
    "for i in range(5):\n",
    "    df = df.append(yo[i], ignore_index=True)\n",
    "#else:\n",
    "#    "
   ]
  },
  {
   "cell_type": "code",
   "execution_count": 90,
   "metadata": {},
   "outputs": [],
   "source": [
    "df.loc[3:4,'polarity']=-0.8"
   ]
  },
  {
   "cell_type": "code",
   "execution_count": 91,
   "metadata": {},
   "outputs": [
    {
     "data": {
      "text/html": [
       "<div>\n",
       "<style scoped>\n",
       "    .dataframe tbody tr th:only-of-type {\n",
       "        vertical-align: middle;\n",
       "    }\n",
       "\n",
       "    .dataframe tbody tr th {\n",
       "        vertical-align: top;\n",
       "    }\n",
       "\n",
       "    .dataframe thead th {\n",
       "        text-align: right;\n",
       "    }\n",
       "</style>\n",
       "<table border=\"1\" class=\"dataframe\">\n",
       "  <thead>\n",
       "    <tr style=\"text-align: right;\">\n",
       "      <th></th>\n",
       "      <th>score</th>\n",
       "      <th>tone_id</th>\n",
       "      <th>tone_name</th>\n",
       "      <th>polarity</th>\n",
       "    </tr>\n",
       "  </thead>\n",
       "  <tbody>\n",
       "    <tr>\n",
       "      <th>0</th>\n",
       "      <td>0.026566</td>\n",
       "      <td>anger</td>\n",
       "      <td>Anger</td>\n",
       "      <td>NaN</td>\n",
       "    </tr>\n",
       "    <tr>\n",
       "      <th>1</th>\n",
       "      <td>0.020560</td>\n",
       "      <td>disgust</td>\n",
       "      <td>Disgust</td>\n",
       "      <td>NaN</td>\n",
       "    </tr>\n",
       "    <tr>\n",
       "      <th>2</th>\n",
       "      <td>0.033922</td>\n",
       "      <td>fear</td>\n",
       "      <td>Fear</td>\n",
       "      <td>NaN</td>\n",
       "    </tr>\n",
       "    <tr>\n",
       "      <th>3</th>\n",
       "      <td>0.283470</td>\n",
       "      <td>joy</td>\n",
       "      <td>Joy</td>\n",
       "      <td>-0.8</td>\n",
       "    </tr>\n",
       "    <tr>\n",
       "      <th>4</th>\n",
       "      <td>0.180420</td>\n",
       "      <td>sadness</td>\n",
       "      <td>Sadness</td>\n",
       "      <td>-0.8</td>\n",
       "    </tr>\n",
       "  </tbody>\n",
       "</table>\n",
       "</div>"
      ],
      "text/plain": [
       "      score  tone_id tone_name  polarity\n",
       "0  0.026566    anger     Anger       NaN\n",
       "1  0.020560  disgust   Disgust       NaN\n",
       "2  0.033922     fear      Fear       NaN\n",
       "3  0.283470      joy       Joy      -0.8\n",
       "4  0.180420  sadness   Sadness      -0.8"
      ]
     },
     "execution_count": 91,
     "metadata": {},
     "output_type": "execute_result"
    }
   ],
   "source": [
    "df"
   ]
  },
  {
   "cell_type": "code",
   "execution_count": 92,
   "metadata": {},
   "outputs": [],
   "source": [
    "df.to_csv('output.csv')"
   ]
  },
  {
   "cell_type": "markdown",
   "metadata": {},
   "source": [
    "<h3> Visualization of The Emotions</h3>"
   ]
  },
  {
   "cell_type": "code",
   "execution_count": 114,
   "metadata": {},
   "outputs": [
    {
     "data": {
      "image/png": "[encoded data removed]",
      "text/plain": [
       "<matplotlib.figure.Figure at 0x7fe9e5094908>"
      ]
     },
     "metadata": {},
     "output_type": "display_data"
    }
   ],
   "source": [
    "# Taking emotions to visulisation creating array and plotting it using matplotlib\n",
    "emotion = []\n",
    "values = []\n",
    "X = [1, 2, 3, 4, 5]\n",
    "scale = np.array([0.0, 0.1, 0.2, 0.3, 0.4, 0.5, 0.6, 0.7, 0.8, 0.9])\n",
    "\n",
    "for x in xyz:\n",
    "    emotion.append(x.get(\"tone_name\"))\n",
    "    values.append(x.get(\"score\"))\n",
    "\n",
    "plt.bar(X, values)  # Plot value\n",
    "plt.xticks(X, emotion, rotation='vertical')\n",
    "plt.show()\n"
   ]
  },
  {
   "cell_type": "markdown",
   "metadata": {},
   "source": [
    "<h2> Facial emoitons recognition </h1>"
   ]
  },
  {
   "cell_type": "code",
   "execution_count": 94,
   "metadata": {},
   "outputs": [],
   "source": [
    "import io\n",
    "import os\n",
    "\n",
    "# Imports the Google Cloud client library\n",
    "from google.cloud import vision\n",
    "from google.cloud.vision import types\n"
   ]
  },
  {
   "cell_type": "code",
   "execution_count": 116,
   "metadata": {},
   "outputs": [],
   "source": [
    "# Instantiates a client\n",
    "client = vision.ImageAnnotatorClient()\n"
   ]
  },
  {
   "cell_type": "code",
   "execution_count": 117,
   "metadata": {},
   "outputs": [],
   "source": [
    "file_name = os.path.join(\n",
    "    os.path.dirname('/home/sahil/Desktop/cognizant'),\n",
    "    '/home/sahil/Desktop/cognizant/z.jpg')"
   ]
  },
  {
   "cell_type": "code",
   "execution_count": 118,
   "metadata": {},
   "outputs": [],
   "source": [
    "with io.open(file_name, 'rb') as image_file:\n",
    "    content = image_file.read()"
   ]
  },
  {
   "cell_type": "code",
   "execution_count": 119,
   "metadata": {},
   "outputs": [],
   "source": [
    "image = types.Image(content=content)"
   ]
  },
  {
   "cell_type": "code",
   "execution_count": 120,
   "metadata": {},
   "outputs": [],
   "source": [
    "response = client.label_detection(image=image)\n",
    "labels = response.label_annotations"
   ]
  },
  {
   "cell_type": "code",
   "execution_count": 121,
   "metadata": {},
   "outputs": [
    {
     "name": "stdout",
     "output_type": "stream",
     "text": [
      "Labels:\n",
      "mid: \"/m/01qkbx\"\n",
      "description: \"professional\"\n",
      "score: 0.6779342293739319\n",
      "topicality: 0.6779342293739319\n",
      "\n",
      "mid: \"/m/01jwgf\"\n",
      "description: \"product\"\n",
      "score: 0.6071074604988098\n",
      "topicality: 0.6071074604988098\n",
      "\n",
      "mid: \"/m/0ds99lh\"\n",
      "description: \"fun\"\n",
      "score: 0.530925452709198\n",
      "topicality: 0.530925452709198\n",
      "\n",
      "mid: \"/m/09x_r\"\n",
      "description: \"entrepreneur\"\n",
      "score: 0.5214413404464722\n",
      "topicality: 0.5214413404464722\n",
      "\n"
     ]
    }
   ],
   "source": [
    "\n",
    "print('Labels:')\n",
    "for label in labels:\n",
    "    print(label)"
   ]
  },
  {
   "cell_type": "code",
   "execution_count": 122,
   "metadata": {},
   "outputs": [],
   "source": [
    "def detect_faces(path):\n",
    "    \"\"\"Detects faces in an image.\"\"\"\n",
    "    client = vision.ImageAnnotatorClient()"
   ]
  },
  {
   "cell_type": "code",
   "execution_count": 123,
   "metadata": {},
   "outputs": [],
   "source": [
    "with io.open('/home/sahil/Desktop/cognizant/z.jpg', 'rb') as image_file:\n",
    "        content = image_file.read()"
   ]
  },
  {
   "cell_type": "code",
   "execution_count": 124,
   "metadata": {},
   "outputs": [],
   "source": [
    "response = client.face_detection(image=image)\n",
    "faces = response.face_annotations"
   ]
  },
  {
   "cell_type": "code",
   "execution_count": 125,
   "metadata": {},
   "outputs": [],
   "source": [
    "likelihood_name = ('UNKNOWN', 'VERY_UNLIKELY', 'UNLIKELY', 'POSSIBLE',\n",
    "                       'LIKELY', 'VERY_LIKELY')"
   ]
  },
  {
   "cell_type": "code",
   "execution_count": 126,
   "metadata": {},
   "outputs": [
    {
     "name": "stdout",
     "output_type": "stream",
     "text": [
      "anger: VERY_UNLIKELY\n",
      "joy: VERY_LIKELY\n",
      "surprise: VERY_UNLIKELY\n",
      "face bounds: (364,85),(726,85),(726,505),(364,505)\n",
      "anger: VERY_UNLIKELY\n",
      "joy: VERY_LIKELY\n",
      "surprise: VERY_UNLIKELY\n",
      "face bounds: (201,302),(335,302),(335,458),(201,458)\n",
      "anger: VERY_UNLIKELY\n",
      "joy: UNLIKELY\n",
      "surprise: VERY_UNLIKELY\n",
      "face bounds: (1099,451),(1214,451),(1214,585),(1099,585)\n",
      "anger: VERY_UNLIKELY\n",
      "joy: VERY_UNLIKELY\n",
      "surprise: VERY_UNLIKELY\n",
      "face bounds: (943,386),(1074,386),(1074,539),(943,539)\n"
     ]
    }
   ],
   "source": [
    "for face in faces:\n",
    "        print('anger: {}'.format(likelihood_name[face.anger_likelihood]))\n",
    "        print('joy: {}'.format(likelihood_name[face.joy_likelihood]))\n",
    "        print('surprise: {}'.format(likelihood_name[face.surprise_likelihood]))\n",
    "\n",
    "        vertices = (['({},{})'.format(vertex.x, vertex.y)\n",
    "                    for vertex in face.bounding_poly.vertices])\n",
    "\n",
    "        print('face bounds: {}'.format(','.join(vertices)))"
   ]
  },
  {
   "cell_type": "code",
   "execution_count": null,
   "metadata": {},
   "outputs": [],
   "source": []
  }
 ],
 "metadata": {
  "kernelspec": {
   "display_name": "Python 3",
   "language": "python",
   "name": "python3"
  },
  "language_info": {
   "codemirror_mode": {
    "name": "ipython",
    "version": 3
   },
   "file_extension": ".py",
   "mimetype": "text/x-python",
   "name": "python",
   "nbconvert_exporter": "python",
   "pygments_lexer": "ipython3",
   "version": "3.6.3"
  }
 },
 "nbformat": 4,
 "nbformat_minor": 2
}
